{
 "cells": [
  {
   "cell_type": "code",
   "execution_count": 1,
   "metadata": {
    "collapsed": true
   },
   "outputs": [],
   "source": [
    "import sys\n",
    "path = './code'\n",
    "sys.path.insert(0, path)"
   ]
  },
  {
   "cell_type": "code",
   "execution_count": 2,
   "metadata": {},
   "outputs": [
    {
     "data": {
      "text/plain": [
       "SiamRPNotb(\n",
       "  (featureExtract): Sequential(\n",
       "    (0): Conv2d(3, 96, kernel_size=(11, 11), stride=(2, 2))\n",
       "    (1): BatchNorm2d(96, eps=1e-05, momentum=0.1, affine=True, track_running_stats=True)\n",
       "    (2): MaxPool2d(kernel_size=3, stride=2, padding=0, dilation=1, ceil_mode=False)\n",
       "    (3): ReLU(inplace)\n",
       "    (4): Conv2d(96, 256, kernel_size=(5, 5), stride=(1, 1))\n",
       "    (5): BatchNorm2d(256, eps=1e-05, momentum=0.1, affine=True, track_running_stats=True)\n",
       "    (6): MaxPool2d(kernel_size=3, stride=2, padding=0, dilation=1, ceil_mode=False)\n",
       "    (7): ReLU(inplace)\n",
       "    (8): Conv2d(256, 384, kernel_size=(3, 3), stride=(1, 1))\n",
       "    (9): BatchNorm2d(384, eps=1e-05, momentum=0.1, affine=True, track_running_stats=True)\n",
       "    (10): ReLU(inplace)\n",
       "    (11): Conv2d(384, 384, kernel_size=(3, 3), stride=(1, 1))\n",
       "    (12): BatchNorm2d(384, eps=1e-05, momentum=0.1, affine=True, track_running_stats=True)\n",
       "    (13): ReLU(inplace)\n",
       "    (14): Conv2d(384, 256, kernel_size=(3, 3), stride=(1, 1))\n",
       "    (15): BatchNorm2d(256, eps=1e-05, momentum=0.1, affine=True, track_running_stats=True)\n",
       "  )\n",
       "  (conv_r1): Conv2d(256, 5120, kernel_size=(3, 3), stride=(1, 1))\n",
       "  (conv_r2): Conv2d(256, 256, kernel_size=(3, 3), stride=(1, 1))\n",
       "  (conv_cls1): Conv2d(256, 2560, kernel_size=(3, 3), stride=(1, 1))\n",
       "  (conv_cls2): Conv2d(256, 256, kernel_size=(3, 3), stride=(1, 1))\n",
       "  (regress_adjust): Conv2d(20, 20, kernel_size=(1, 1), stride=(1, 1))\n",
       ")"
      ]
     },
     "execution_count": 2,
     "metadata": {},
     "output_type": "execute_result"
    }
   ],
   "source": [
    "import cv2, torch\n",
    "import numpy as np\n",
    "from os.path import realpath, dirname, join\n",
    "\n",
    "from net import SiamRPNvot, SiamRPNBIG, SiamRPNotb\n",
    "from run_SiamRPN import SiamRPN_init, SiamRPN_track\n",
    "from utils import get_axis_aligned_bbox, cxy_wh_2_rect\n",
    "\n",
    "# load net\n",
    "# net = SiamRPNvot()\n",
    "# net.load_state_dict(torch.load('SiamRPNVOT.model'))\n",
    "\n",
    "# net = SiamRPNBIG()\n",
    "# net.load_state_dict(torch.load('SiamRPNBIG.model'))\n",
    "\n",
    "net = SiamRPNotb()\n",
    "net.load_state_dict(torch.load('SiamRPNOTB.model'))\n",
    "\n",
    "net.eval().cuda()"
   ]
  },
  {
   "cell_type": "code",
   "execution_count": 3,
   "metadata": {
    "collapsed": true
   },
   "outputs": [],
   "source": [
    "# function for select target\n",
    "def mouse_opt(event, x, y, flags, param):\n",
    "    global target_pos, target_sz, tmp_p_1, tmp_p_2\n",
    "    if event == cv2.EVENT_LBUTTONDOWN:\n",
    "        tmp_p_1 = (x, y)\n",
    "    elif event == cv2.EVENT_LBUTTONUP:\n",
    "        tmp_p_2 = (x, y)\n",
    "        # update target bounding box\n",
    "        x_c = (tmp_p_1[0] + tmp_p_2[0]) / 2.0\n",
    "        y_c = (tmp_p_1[1] + tmp_p_2[1]) / 2.0\n",
    "        w = float(abs(tmp_p_2[0] - tmp_p_1[0]))\n",
    "        h = float(abs(tmp_p_2[1] - tmp_p_1[1]))\n",
    "        target_pos = np.array([x_c, y_c])\n",
    "        target_sz = np.array([w, h])\n",
    "        print('target selected at center: (%d, %d) and size: (%d, %d)' % (x_c, y_c, w, h))\n",
    "\n",
    "def draw():\n",
    "    global im_show, target_pos, target_sz\n",
    "    im_show = im.copy()\n",
    "    \n",
    "    if target_pos is not None:\n",
    "        cv2.rectangle(im_show, (int(target_pos[0] - target_sz[0] / 2), int(target_pos[1] - target_sz[1] / 2)),\n",
    "                      (int(target_pos[0] + target_sz[0] / 2), int(target_pos[1] + target_sz[1] / 2)),\n",
    "                      (0, 255, 0), 1)"
   ]
  },
  {
   "cell_type": "markdown",
   "metadata": {},
   "source": [
    "#### select target"
   ]
  },
  {
   "cell_type": "code",
   "execution_count": 8,
   "metadata": {},
   "outputs": [
    {
     "name": "stdout",
     "output_type": "stream",
     "text": [
      "target selected at center: (396, 141) and size: (90, 95)\n"
     ]
    }
   ],
   "source": [
    "video = cv2.VideoCapture(\"test.mp4\")\n",
    "_, im = video.read()\n",
    "\n",
    "global target_pos, target_sz, tmp_p_1, tmp_p_2\n",
    "tmp_p_1 = (0, 0)\n",
    "tmp_p_2 = (0, 0)\n",
    "target_pos = None\n",
    "target_sz = None\n",
    "\n",
    "global im_show\n",
    "im_show = im.copy()\n",
    "while True:\n",
    "    cv2.setMouseCallback(\"img\", mouse_opt)\n",
    "    draw()\n",
    "    cv2.imshow(\"img\", im_show)\n",
    "    k = cv2.waitKey(1)\n",
    "    if k == 27:\n",
    "        break\n",
    "cv2.destroyAllWindows()"
   ]
  },
  {
   "cell_type": "code",
   "execution_count": 9,
   "metadata": {},
   "outputs": [
    {
     "name": "stdout",
     "output_type": "stream",
     "text": [
      "Tracking Speed 54.0fps\n"
     ]
    }
   ],
   "source": [
    "state = SiamRPN_init(im, target_pos, target_sz, net)\n",
    "\n",
    "video = cv2.VideoCapture(\"test.mp4\")\n",
    "# tracking and visualization\n",
    "toc = 0\n",
    "i = 1\n",
    "while True:\n",
    "    ok, im = video.read()\n",
    "#     im = cv2.resize(im, (960, 540))\n",
    "    if not ok:\n",
    "        break\n",
    "    tic = cv2.getTickCount()\n",
    "    state = SiamRPN_track(state, im)  # track\n",
    "    toc += cv2.getTickCount()-tic\n",
    "    i += 1\n",
    "    res = cxy_wh_2_rect(state['target_pos'], state['target_sz'])\n",
    "    res = [int(l) for l in res]\n",
    "    cv2.rectangle(im, (res[0], res[1]), (res[0] + res[2], res[1] + res[3]), (0, 255, 255), 3)\n",
    "    cv2.putText(im, \"score: %.2f\" % state['score'], (int(state['target_pos'][0]), int(state['target_pos'][1])), cv2.FONT_HERSHEY_SIMPLEX, 0.4, (255, 25, 255), 2)\n",
    "    cv2.imshow('SiamRPN', im)\n",
    "    k = cv2.waitKey(1)\n",
    "    if k == 27:\n",
    "        break\n",
    "cv2.destroyAllWindows()\n",
    "print('Tracking Speed {:.1f}fps'.format((i-1)/(toc/cv2.getTickFrequency())))"
   ]
  }
 ],
 "metadata": {
  "kernelspec": {
   "display_name": "Python 3",
   "language": "python",
   "name": "python3"
  },
  "language_info": {
   "codemirror_mode": {
    "name": "ipython",
    "version": 3
   },
   "file_extension": ".py",
   "mimetype": "text/x-python",
   "name": "python",
   "nbconvert_exporter": "python",
   "pygments_lexer": "ipython3",
   "version": "3.6.1"
  }
 },
 "nbformat": 4,
 "nbformat_minor": 2
}
